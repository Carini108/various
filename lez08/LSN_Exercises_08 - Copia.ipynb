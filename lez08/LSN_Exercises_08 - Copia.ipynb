{
 "cells": [
  {
   "cell_type": "markdown",
   "metadata": {},
   "source": []
  },
  {
   "cell_type": "markdown",
   "metadata": {},
   "source": [
    "- <span style=\"color:red\">Show a picture of $\\langle {\\hat H} \\rangle_T$ \n",
    "    \n",
    "    (with statistical uncertainties) \n",
    "    \n",
    "    as a function of the SA steps of the algorithm</span>\n",
    "    \n",
    "    instantaneous!\n",
    "    \n",
    "\n",
    "    \n",
    "#### finally\n",
    "\n",
    "- <span style=\"color:red\">picture **of the sampled** $|\\Psi_T(x)|^2$</span> \n",
    "\n",
    "    by filling a histogram with the sampled configurations \n",
    "\n",
    "    compare it with the analytic curve of $|\\Psi_T(x)|^2$ \n",
    "\n",
    "    and with the numerical solution obtained by transforming the Schrodinger equation into a matrix equation (see below the supplementary material)."
   ]
  },
  {
   "cell_type": "code",
   "execution_count": null,
   "metadata": {},
   "outputs": [],
   "source": []
  }
 ],
 "metadata": {
  "kernelspec": {
   "display_name": "Python 3",
   "language": "python",
   "name": "python3"
  },
  "language_info": {
   "codemirror_mode": {
    "name": "ipython",
    "version": 3
   },
   "file_extension": ".py",
   "mimetype": "text/x-python",
   "name": "python",
   "nbconvert_exporter": "python",
   "pygments_lexer": "ipython3",
   "version": "3.6.5"
  }
 },
 "nbformat": 4,
 "nbformat_minor": 2
}
